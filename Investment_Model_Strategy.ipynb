{
  "nbformat": 4,
  "nbformat_minor": 0,
  "metadata": {
    "colab": {
      "name": "Investment team Dec.ipynb",
      "provenance": [],
      "collapsed_sections": []
    },
    "kernelspec": {
      "name": "python3",
      "display_name": "Python 3"
    },
    "language_info": {
      "name": "python"
    }
  },
  "cells": [
    {
      "cell_type": "code",
      "execution_count": 1,
      "metadata": {
        "id": "dWKeECMl9PwH"
      },
      "outputs": [],
      "source": [
        "import numpy as np\n",
        "import matplotlib.pyplot as plt\n",
        "import seaborn as sns\n",
        "import pandas as pd\n",
        "import warnings\n",
        "warnings.filterwarnings('ignore') "
      ]
    },
    {
      "cell_type": "code",
      "source": [
        "!gdown --id 1H-uni6SujnkiJQExXGtrYuYhjck8BJee\n",
        "!gdown --id 1700d587SL2HoV7GG-YtWQLRTg7fkBGn-"
      ],
      "metadata": {
        "colab": {
          "base_uri": "https://localhost:8080/"
        },
        "id": "6gVI-zyL9mNC",
        "outputId": "fa998270-3904-42ea-9ba4-73e677969938"
      },
      "execution_count": 2,
      "outputs": [
        {
          "output_type": "stream",
          "name": "stdout",
          "text": [
            "Downloading...\n",
            "From: https://drive.google.com/uc?id=1H-uni6SujnkiJQExXGtrYuYhjck8BJee\n",
            "To: /content/Market_cap.csv\n",
            "100% 95.1k/95.1k [00:00<00:00, 28.3MB/s]\n",
            "Downloading...\n",
            "From: https://drive.google.com/uc?id=1700d587SL2HoV7GG-YtWQLRTg7fkBGn-\n",
            "To: /content/CM_52_wk_High_low.csv\n",
            "100% 38.5k/38.5k [00:00<00:00, 32.1MB/s]\n"
          ]
        }
      ]
    },
    {
      "cell_type": "markdown",
      "source": [
        "##1)***Preprocessing and Cleaning*** for Market Cap Data"
      ],
      "metadata": {
        "id": "_gUnYVzzLzML"
      }
    },
    {
      "cell_type": "code",
      "source": [
        "df=pd.read_csv('/content/Market_cap.csv')"
      ],
      "metadata": {
        "id": "qNl63n9G9mkj"
      },
      "execution_count": 3,
      "outputs": []
    },
    {
      "cell_type": "code",
      "source": [
        "dfx=df.drop(labels=[1921,1920], axis=0)\n",
        "dfnew=dfx.drop('Sr. No.', axis=1)"
      ],
      "metadata": {
        "id": "HTDECbUn9oHG"
      },
      "execution_count": 4,
      "outputs": []
    },
    {
      "cell_type": "code",
      "source": [
        "df1=dfnew.rename(columns={'Market capitalization \\n(Rs in Lakhs)':'MarketCap'})"
      ],
      "metadata": {
        "id": "-encOiwqFn32"
      },
      "execution_count": 5,
      "outputs": []
    },
    {
      "cell_type": "code",
      "source": [
        "df1"
      ],
      "metadata": {
        "colab": {
          "base_uri": "https://localhost:8080/",
          "height": 423
        },
        "id": "1BrQv-Jh9oFb",
        "outputId": "1a70637a-729f-48ec-9564-b07f3a3c5463"
      },
      "execution_count": 6,
      "outputs": [
        {
          "output_type": "execute_result",
          "data": {
            "text/html": [
              "<div>\n",
              "<style scoped>\n",
              "    .dataframe tbody tr th:only-of-type {\n",
              "        vertical-align: middle;\n",
              "    }\n",
              "\n",
              "    .dataframe tbody tr th {\n",
              "        vertical-align: top;\n",
              "    }\n",
              "\n",
              "    .dataframe thead th {\n",
              "        text-align: right;\n",
              "    }\n",
              "</style>\n",
              "<table border=\"1\" class=\"dataframe\">\n",
              "  <thead>\n",
              "    <tr style=\"text-align: right;\">\n",
              "      <th></th>\n",
              "      <th>Symbol</th>\n",
              "      <th>Company Name</th>\n",
              "      <th>MarketCap</th>\n",
              "    </tr>\n",
              "  </thead>\n",
              "  <tbody>\n",
              "    <tr>\n",
              "      <th>0</th>\n",
              "      <td>RELIANCE</td>\n",
              "      <td>Reliance Industries Limited</td>\n",
              "      <td>126985361</td>\n",
              "    </tr>\n",
              "    <tr>\n",
              "      <th>1</th>\n",
              "      <td>TCS</td>\n",
              "      <td>Tata Consultancy Services Limited</td>\n",
              "      <td>117550304</td>\n",
              "    </tr>\n",
              "    <tr>\n",
              "      <th>2</th>\n",
              "      <td>HDFCBANK</td>\n",
              "      <td>HDFC Bank Limited</td>\n",
              "      <td>82341586</td>\n",
              "    </tr>\n",
              "    <tr>\n",
              "      <th>3</th>\n",
              "      <td>INFY</td>\n",
              "      <td>Infosys Limited</td>\n",
              "      <td>58277398</td>\n",
              "    </tr>\n",
              "    <tr>\n",
              "      <th>4</th>\n",
              "      <td>HINDUNILVR</td>\n",
              "      <td>Hindustan Unilever Limited</td>\n",
              "      <td>57129664</td>\n",
              "    </tr>\n",
              "    <tr>\n",
              "      <th>...</th>\n",
              "      <td>...</td>\n",
              "      <td>...</td>\n",
              "      <td>...</td>\n",
              "    </tr>\n",
              "    <tr>\n",
              "      <th>1915</th>\n",
              "      <td>CKPLEISURE</td>\n",
              "      <td>CKP Leisure Limited</td>\n",
              "      <td>* Not Traded as on March 31, 2021</td>\n",
              "    </tr>\n",
              "    <tr>\n",
              "      <th>1916</th>\n",
              "      <td>CKPPRODUCT</td>\n",
              "      <td>CKP Products Limited</td>\n",
              "      <td>* Not Traded as on March 31, 2021</td>\n",
              "    </tr>\n",
              "    <tr>\n",
              "      <th>1917</th>\n",
              "      <td>FOURTHDIM</td>\n",
              "      <td>Fourth Dimension Solutions Limited</td>\n",
              "      <td>* Not Traded as on March 31, 2021</td>\n",
              "    </tr>\n",
              "    <tr>\n",
              "      <th>1918</th>\n",
              "      <td>ARTEDZ</td>\n",
              "      <td>Artedz Fabs Limited</td>\n",
              "      <td>* Not Traded as on March 31, 2021</td>\n",
              "    </tr>\n",
              "    <tr>\n",
              "      <th>1919</th>\n",
              "      <td>BANSAL</td>\n",
              "      <td>Bansal Multiflex Limited</td>\n",
              "      <td>* Not Traded as on March 31, 2021</td>\n",
              "    </tr>\n",
              "  </tbody>\n",
              "</table>\n",
              "<p>1920 rows × 3 columns</p>\n",
              "</div>"
            ],
            "text/plain": [
              "          Symbol  ...                          MarketCap\n",
              "0       RELIANCE  ...                          126985361\n",
              "1            TCS  ...                          117550304\n",
              "2       HDFCBANK  ...                           82341586\n",
              "3           INFY  ...                           58277398\n",
              "4     HINDUNILVR  ...                           57129664\n",
              "...          ...  ...                                ...\n",
              "1915  CKPLEISURE  ...  * Not Traded as on March 31, 2021\n",
              "1916  CKPPRODUCT  ...  * Not Traded as on March 31, 2021\n",
              "1917   FOURTHDIM  ...  * Not Traded as on March 31, 2021\n",
              "1918      ARTEDZ  ...  * Not Traded as on March 31, 2021\n",
              "1919      BANSAL  ...  * Not Traded as on March 31, 2021\n",
              "\n",
              "[1920 rows x 3 columns]"
            ]
          },
          "metadata": {},
          "execution_count": 6
        }
      ]
    },
    {
      "cell_type": "code",
      "source": [
        "df1=df1[df1.MarketCap.apply(lambda x: x.isnumeric())]\n",
        "df1.MarketCap=pd.to_numeric(df1.MarketCap)"
      ],
      "metadata": {
        "id": "pJmFefDRFiM7"
      },
      "execution_count": 7,
      "outputs": []
    },
    {
      "cell_type": "code",
      "source": [
        "df1.dtypes"
      ],
      "metadata": {
        "colab": {
          "base_uri": "https://localhost:8080/"
        },
        "id": "hJzzSvwxFP28",
        "outputId": "0d12ddbb-2275-485a-fab9-a4e7f909bbf6"
      },
      "execution_count": 8,
      "outputs": [
        {
          "output_type": "execute_result",
          "data": {
            "text/plain": [
              "Symbol          object\n",
              "Company Name    object\n",
              "MarketCap        int64\n",
              "dtype: object"
            ]
          },
          "metadata": {},
          "execution_count": 8
        }
      ]
    },
    {
      "cell_type": "code",
      "source": [
        "df1.isnull().sum()"
      ],
      "metadata": {
        "colab": {
          "base_uri": "https://localhost:8080/"
        },
        "id": "Fz4Ufirs9oD7",
        "outputId": "7f66c20d-d5b7-4b85-a4a6-de3f9c474dc6"
      },
      "execution_count": 9,
      "outputs": [
        {
          "output_type": "execute_result",
          "data": {
            "text/plain": [
              "Symbol          0\n",
              "Company Name    0\n",
              "MarketCap       0\n",
              "dtype: int64"
            ]
          },
          "metadata": {},
          "execution_count": 9
        }
      ]
    },
    {
      "cell_type": "code",
      "source": [
        "df_mcap_plot=df1.sort_values(by=['MarketCap'], ascending=False, ignore_index=True)\n",
        "df_mcap_plot=df_mcap_plot.iloc[:10:, ::]"
      ],
      "metadata": {
        "id": "s5dzgSYuOb4s"
      },
      "execution_count": 10,
      "outputs": []
    },
    {
      "cell_type": "code",
      "source": [
        "fig=plt.figure(figsize=(15, 5))\n",
        "p=sns.barplot(df_mcap_plot['Symbol'], df_mcap_plot.MarketCap);\n",
        "p.set_ylabel('Market Cap in Thousand Crores INR')\n",
        "ylabels = [y  for y in p.get_yticks()/100000]\n",
        "plt.title('Top 10 Companies by Market Cap', weight='bold', fontsize=15)\n",
        "p.set_yticklabels(ylabels);  #plotting market cap of 10 largest companies "
      ],
      "metadata": {
        "colab": {
          "base_uri": "https://localhost:8080/",
          "height": 352
        },
        "id": "k8qsgUaOOb0d",
        "outputId": "3e95c75d-6613-49c0-b8e9-098f4c458731"
      },
      "execution_count": 11,
      "outputs": [
        {
          "output_type": "display_data",
          "data": {
            "image/png": "[encoded data removed]",
            "text/plain": [
              "<Figure size 1080x360 with 1 Axes>"
            ]
          },
          "metadata": {
            "needs_background": "light"
          }
        }
      ]
    },
    {
      "cell_type": "code",
      "source": [
        "list_comp_it=['LTI', 'MASTEK', 'INFY', 'KPITTECH', 'BHARTIARTL', 'INDUSTOWER', 'TATACOMM', 'COFORGE' ]"
      ],
      "metadata": {
        "id": "5HZXJ9I69oCD"
      },
      "execution_count": 12,
      "outputs": []
    },
    {
      "cell_type": "code",
      "source": [
        "dfn=df1[df1.Symbol.isin(list_comp_it)]"
      ],
      "metadata": {
        "id": "Hmsd2p9M9oAk"
      },
      "execution_count": 13,
      "outputs": []
    },
    {
      "cell_type": "code",
      "source": [
        "dfn=dfn.reset_index(drop=True)\n"
      ],
      "metadata": {
        "id": "_hQOFwOl9n-7"
      },
      "execution_count": 14,
      "outputs": []
    },
    {
      "cell_type": "code",
      "source": [
        "dfn=dfn.sort_values(by=['Symbol'])"
      ],
      "metadata": {
        "id": "LEqXWCl43hoF"
      },
      "execution_count": 15,
      "outputs": []
    },
    {
      "cell_type": "code",
      "source": [
        "dfn"
      ],
      "metadata": {
        "colab": {
          "base_uri": "https://localhost:8080/",
          "height": 300
        },
        "id": "e9s4MmaV2mr1",
        "outputId": "82d2c214-eab9-4b31-cbb7-b62a7befcea6"
      },
      "execution_count": 16,
      "outputs": [
        {
          "output_type": "execute_result",
          "data": {
            "text/html": [
              "<div>\n",
              "<style scoped>\n",
              "    .dataframe tbody tr th:only-of-type {\n",
              "        vertical-align: middle;\n",
              "    }\n",
              "\n",
              "    .dataframe tbody tr th {\n",
              "        vertical-align: top;\n",
              "    }\n",
              "\n",
              "    .dataframe thead th {\n",
              "        text-align: right;\n",
              "    }\n",
              "</style>\n",
              "<table border=\"1\" class=\"dataframe\">\n",
              "  <thead>\n",
              "    <tr style=\"text-align: right;\">\n",
              "      <th></th>\n",
              "      <th>Symbol</th>\n",
              "      <th>Company Name</th>\n",
              "      <th>MarketCap</th>\n",
              "    </tr>\n",
              "  </thead>\n",
              "  <tbody>\n",
              "    <tr>\n",
              "      <th>1</th>\n",
              "      <td>BHARTIARTL</td>\n",
              "      <td>Bharti Airtel Limited</td>\n",
              "      <td>28410257</td>\n",
              "    </tr>\n",
              "    <tr>\n",
              "      <th>5</th>\n",
              "      <td>COFORGE</td>\n",
              "      <td>Coforge Limited</td>\n",
              "      <td>1773365</td>\n",
              "    </tr>\n",
              "    <tr>\n",
              "      <th>3</th>\n",
              "      <td>INDUSTOWER</td>\n",
              "      <td>Indus Towers Limited</td>\n",
              "      <td>6602596</td>\n",
              "    </tr>\n",
              "    <tr>\n",
              "      <th>0</th>\n",
              "      <td>INFY</td>\n",
              "      <td>Infosys Limited</td>\n",
              "      <td>58277398</td>\n",
              "    </tr>\n",
              "    <tr>\n",
              "      <th>6</th>\n",
              "      <td>KPITTECH</td>\n",
              "      <td>KPIT Technologies Limited</td>\n",
              "      <td>486742</td>\n",
              "    </tr>\n",
              "    <tr>\n",
              "      <th>2</th>\n",
              "      <td>LTI</td>\n",
              "      <td>Larsen &amp; Toubro Infotech Limited</td>\n",
              "      <td>7082721</td>\n",
              "    </tr>\n",
              "    <tr>\n",
              "      <th>7</th>\n",
              "      <td>MASTEK</td>\n",
              "      <td>Mastek Limited</td>\n",
              "      <td>307753</td>\n",
              "    </tr>\n",
              "    <tr>\n",
              "      <th>4</th>\n",
              "      <td>TATACOMM</td>\n",
              "      <td>Tata Communications Limited</td>\n",
              "      <td>3028980</td>\n",
              "    </tr>\n",
              "  </tbody>\n",
              "</table>\n",
              "</div>"
            ],
            "text/plain": [
              "       Symbol                      Company Name  MarketCap\n",
              "1  BHARTIARTL             Bharti Airtel Limited   28410257\n",
              "5     COFORGE                   Coforge Limited    1773365\n",
              "3  INDUSTOWER              Indus Towers Limited    6602596\n",
              "0        INFY                   Infosys Limited   58277398\n",
              "6    KPITTECH         KPIT Technologies Limited     486742\n",
              "2         LTI  Larsen & Toubro Infotech Limited    7082721\n",
              "7      MASTEK                    Mastek Limited     307753\n",
              "4    TATACOMM       Tata Communications Limited    3028980"
            ]
          },
          "metadata": {},
          "execution_count": 16
        }
      ]
    },
    {
      "cell_type": "code",
      "source": [
        "fig=plt.figure(figsize=(8, 5))\n",
        "p=sns.barplot(dfn['Symbol'], dfn.MarketCap)\n",
        "plt.yscale('log')\n",
        "plt.title('Market Cap of Shortlisted Companies in IT sector', weight='bold', fontsize=15)\n",
        "p.set_ylabel('Market Cap in Lakh INR (log scale)'); #plotting stocks by market cap in log scale"
      ],
      "metadata": {
        "colab": {
          "base_uri": "https://localhost:8080/",
          "height": 352
        },
        "id": "NrjN_KLwLMDC",
        "outputId": "633d053e-f82c-4578-c12b-ed92462e2ada"
      },
      "execution_count": 17,
      "outputs": [
        {
          "output_type": "display_data",
          "data": {
            "image/png": "[encoded data removed]",
            "text/plain": [
              "<Figure size 576x360 with 1 Axes>"
            ]
          },
          "metadata": {
            "needs_background": "light"
          }
        }
      ]
    },
    {
      "cell_type": "code",
      "source": [
        "dfn_transform=dfn"
      ],
      "metadata": {
        "id": "iIMX1gfFQch2"
      },
      "execution_count": 18,
      "outputs": []
    },
    {
      "cell_type": "markdown",
      "source": [
        "###1)a)***Taking Squared log transform*** of the market cap to be used as a determining parameter"
      ],
      "metadata": {
        "id": "LMNWI8qBRDMU"
      }
    },
    {
      "cell_type": "code",
      "source": [
        "dfn_transform.MarketCap=np.square(np.log(dfn_transform.MarketCap))"
      ],
      "metadata": {
        "id": "QvH4KRvuJcPt"
      },
      "execution_count": 19,
      "outputs": []
    },
    {
      "cell_type": "code",
      "source": [
        "dfn_transform"
      ],
      "metadata": {
        "colab": {
          "base_uri": "https://localhost:8080/",
          "height": 300
        },
        "id": "vampblw_JcOB",
        "outputId": "ce86ad76-966f-4f1e-c3fa-7c8208801fc0"
      },
      "execution_count": 20,
      "outputs": [
        {
          "output_type": "execute_result",
          "data": {
            "text/html": [
              "<div>\n",
              "<style scoped>\n",
              "    .dataframe tbody tr th:only-of-type {\n",
              "        vertical-align: middle;\n",
              "    }\n",
              "\n",
              "    .dataframe tbody tr th {\n",
              "        vertical-align: top;\n",
              "    }\n",
              "\n",
              "    .dataframe thead th {\n",
              "        text-align: right;\n",
              "    }\n",
              "</style>\n",
              "<table border=\"1\" class=\"dataframe\">\n",
              "  <thead>\n",
              "    <tr style=\"text-align: right;\">\n",
              "      <th></th>\n",
              "      <th>Symbol</th>\n",
              "      <th>Company Name</th>\n",
              "      <th>MarketCap</th>\n",
              "    </tr>\n",
              "  </thead>\n",
              "  <tbody>\n",
              "    <tr>\n",
              "      <th>1</th>\n",
              "      <td>BHARTIARTL</td>\n",
              "      <td>Bharti Airtel Limited</td>\n",
              "      <td>294.543196</td>\n",
              "    </tr>\n",
              "    <tr>\n",
              "      <th>5</th>\n",
              "      <td>COFORGE</td>\n",
              "      <td>Coforge Limited</td>\n",
              "      <td>207.025750</td>\n",
              "    </tr>\n",
              "    <tr>\n",
              "      <th>3</th>\n",
              "      <td>INDUSTOWER</td>\n",
              "      <td>Indus Towers Limited</td>\n",
              "      <td>246.583376</td>\n",
              "    </tr>\n",
              "    <tr>\n",
              "      <th>0</th>\n",
              "      <td>INFY</td>\n",
              "      <td>Infosys Limited</td>\n",
              "      <td>319.720323</td>\n",
              "    </tr>\n",
              "    <tr>\n",
              "      <th>6</th>\n",
              "      <td>KPITTECH</td>\n",
              "      <td>KPIT Technologies Limited</td>\n",
              "      <td>171.491845</td>\n",
              "    </tr>\n",
              "    <tr>\n",
              "      <th>2</th>\n",
              "      <td>LTI</td>\n",
              "      <td>Larsen &amp; Toubro Infotech Limited</td>\n",
              "      <td>248.792851</td>\n",
              "    </tr>\n",
              "    <tr>\n",
              "      <th>7</th>\n",
              "      <td>MASTEK</td>\n",
              "      <td>Mastek Limited</td>\n",
              "      <td>159.695103</td>\n",
              "    </tr>\n",
              "    <tr>\n",
              "      <th>4</th>\n",
              "      <td>TATACOMM</td>\n",
              "      <td>Tata Communications Limited</td>\n",
              "      <td>222.717911</td>\n",
              "    </tr>\n",
              "  </tbody>\n",
              "</table>\n",
              "</div>"
            ],
            "text/plain": [
              "       Symbol                      Company Name   MarketCap\n",
              "1  BHARTIARTL             Bharti Airtel Limited  294.543196\n",
              "5     COFORGE                   Coforge Limited  207.025750\n",
              "3  INDUSTOWER              Indus Towers Limited  246.583376\n",
              "0        INFY                   Infosys Limited  319.720323\n",
              "6    KPITTECH         KPIT Technologies Limited  171.491845\n",
              "2         LTI  Larsen & Toubro Infotech Limited  248.792851\n",
              "7      MASTEK                    Mastek Limited  159.695103\n",
              "4    TATACOMM       Tata Communications Limited  222.717911"
            ]
          },
          "metadata": {},
          "execution_count": 20
        }
      ]
    },
    {
      "cell_type": "code",
      "source": [
        "dfn_transform['MarketCapNorm']=dfn_transform.MarketCap/np.sum(dfn_transform.MarketCap)"
      ],
      "metadata": {
        "id": "Tb_pH2n1JcMk"
      },
      "execution_count": 21,
      "outputs": []
    },
    {
      "cell_type": "code",
      "source": [
        "dfn_transform    #transformed market cap to be used in the model"
      ],
      "metadata": {
        "colab": {
          "base_uri": "https://localhost:8080/",
          "height": 300
        },
        "id": "TTNWSjAQJcLJ",
        "outputId": "ceab0831-0f06-4252-e42d-019469f3f749"
      },
      "execution_count": 22,
      "outputs": [
        {
          "output_type": "execute_result",
          "data": {
            "text/html": [
              "<div>\n",
              "<style scoped>\n",
              "    .dataframe tbody tr th:only-of-type {\n",
              "        vertical-align: middle;\n",
              "    }\n",
              "\n",
              "    .dataframe tbody tr th {\n",
              "        vertical-align: top;\n",
              "    }\n",
              "\n",
              "    .dataframe thead th {\n",
              "        text-align: right;\n",
              "    }\n",
              "</style>\n",
              "<table border=\"1\" class=\"dataframe\">\n",
              "  <thead>\n",
              "    <tr style=\"text-align: right;\">\n",
              "      <th></th>\n",
              "      <th>Symbol</th>\n",
              "      <th>Company Name</th>\n",
              "      <th>MarketCap</th>\n",
              "      <th>MarketCapNorm</th>\n",
              "    </tr>\n",
              "  </thead>\n",
              "  <tbody>\n",
              "    <tr>\n",
              "      <th>1</th>\n",
              "      <td>BHARTIARTL</td>\n",
              "      <td>Bharti Airtel Limited</td>\n",
              "      <td>294.543196</td>\n",
              "      <td>0.157462</td>\n",
              "    </tr>\n",
              "    <tr>\n",
              "      <th>5</th>\n",
              "      <td>COFORGE</td>\n",
              "      <td>Coforge Limited</td>\n",
              "      <td>207.025750</td>\n",
              "      <td>0.110675</td>\n",
              "    </tr>\n",
              "    <tr>\n",
              "      <th>3</th>\n",
              "      <td>INDUSTOWER</td>\n",
              "      <td>Indus Towers Limited</td>\n",
              "      <td>246.583376</td>\n",
              "      <td>0.131823</td>\n",
              "    </tr>\n",
              "    <tr>\n",
              "      <th>0</th>\n",
              "      <td>INFY</td>\n",
              "      <td>Infosys Limited</td>\n",
              "      <td>319.720323</td>\n",
              "      <td>0.170921</td>\n",
              "    </tr>\n",
              "    <tr>\n",
              "      <th>6</th>\n",
              "      <td>KPITTECH</td>\n",
              "      <td>KPIT Technologies Limited</td>\n",
              "      <td>171.491845</td>\n",
              "      <td>0.091679</td>\n",
              "    </tr>\n",
              "    <tr>\n",
              "      <th>2</th>\n",
              "      <td>LTI</td>\n",
              "      <td>Larsen &amp; Toubro Infotech Limited</td>\n",
              "      <td>248.792851</td>\n",
              "      <td>0.133004</td>\n",
              "    </tr>\n",
              "    <tr>\n",
              "      <th>7</th>\n",
              "      <td>MASTEK</td>\n",
              "      <td>Mastek Limited</td>\n",
              "      <td>159.695103</td>\n",
              "      <td>0.085372</td>\n",
              "    </tr>\n",
              "    <tr>\n",
              "      <th>4</th>\n",
              "      <td>TATACOMM</td>\n",
              "      <td>Tata Communications Limited</td>\n",
              "      <td>222.717911</td>\n",
              "      <td>0.119064</td>\n",
              "    </tr>\n",
              "  </tbody>\n",
              "</table>\n",
              "</div>"
            ],
            "text/plain": [
              "       Symbol                      Company Name   MarketCap  MarketCapNorm\n",
              "1  BHARTIARTL             Bharti Airtel Limited  294.543196       0.157462\n",
              "5     COFORGE                   Coforge Limited  207.025750       0.110675\n",
              "3  INDUSTOWER              Indus Towers Limited  246.583376       0.131823\n",
              "0        INFY                   Infosys Limited  319.720323       0.170921\n",
              "6    KPITTECH         KPIT Technologies Limited  171.491845       0.091679\n",
              "2         LTI  Larsen & Toubro Infotech Limited  248.792851       0.133004\n",
              "7      MASTEK                    Mastek Limited  159.695103       0.085372\n",
              "4    TATACOMM       Tata Communications Limited  222.717911       0.119064"
            ]
          },
          "metadata": {},
          "execution_count": 22
        }
      ]
    },
    {
      "cell_type": "markdown",
      "source": [
        "##2)***Preprocessing and Cleaning*** for 52wk data "
      ],
      "metadata": {
        "id": "3VCgbnrWMTqZ"
      }
    },
    {
      "cell_type": "code",
      "source": [
        "df_wk=pd.read_csv('/content/CM_52_wk_High_low.csv')"
      ],
      "metadata": {
        "id": "z308AKV7JcHa"
      },
      "execution_count": 23,
      "outputs": []
    },
    {
      "cell_type": "code",
      "source": [
        "df_wk=df_wk[df_wk.SYMBOL.isin(list_comp_it)]"
      ],
      "metadata": {
        "id": "2iva08fXJcEh"
      },
      "execution_count": 24,
      "outputs": []
    },
    {
      "cell_type": "code",
      "source": [
        "df_wk=df_wk.sort_values(by=['SYMBOL'])"
      ],
      "metadata": {
        "id": "DuFwSgpx30Xn"
      },
      "execution_count": 25,
      "outputs": []
    },
    {
      "cell_type": "code",
      "source": [
        "df_wk=df_wk.reset_index(drop=True)"
      ],
      "metadata": {
        "id": "UuYQssFoaeqg"
      },
      "execution_count": 26,
      "outputs": []
    },
    {
      "cell_type": "code",
      "source": [
        "df_wk.dtypes"
      ],
      "metadata": {
        "colab": {
          "base_uri": "https://localhost:8080/"
        },
        "id": "ROXiZSVabd7j",
        "outputId": "4fef1e65-3aaf-4e57-d10a-3a89813b3c44"
      },
      "execution_count": 27,
      "outputs": [
        {
          "output_type": "execute_result",
          "data": {
            "text/plain": [
              "SYMBOL                   object\n",
              "Adjusted 52_Week_High    object\n",
              "Adjusted 52_Week_Low     object\n",
              "dtype: object"
            ]
          },
          "metadata": {},
          "execution_count": 27
        }
      ]
    },
    {
      "cell_type": "code",
      "source": [
        "df_wk.isnull().sum()"
      ],
      "metadata": {
        "colab": {
          "base_uri": "https://localhost:8080/"
        },
        "id": "tghMmqeZbf-p",
        "outputId": "54e5f90c-7ddd-4ee2-8205-84593f96e07d"
      },
      "execution_count": 28,
      "outputs": [
        {
          "output_type": "execute_result",
          "data": {
            "text/plain": [
              "SYMBOL                   0\n",
              "Adjusted 52_Week_High    0\n",
              "Adjusted 52_Week_Low     0\n",
              "dtype: int64"
            ]
          },
          "metadata": {},
          "execution_count": 28
        }
      ]
    },
    {
      "cell_type": "code",
      "source": [
        "df_wk['Adjusted 52_Week_High']=pd.to_numeric(df_wk['Adjusted 52_Week_High'])\n",
        "df_wk['Adjusted 52_Week_Low']=pd.to_numeric(df_wk['Adjusted 52_Week_Low'])\n",
        "df_wk.dtypes"
      ],
      "metadata": {
        "colab": {
          "base_uri": "https://localhost:8080/"
        },
        "id": "rvP-b1qlbk0E",
        "outputId": "54ff7692-b32a-4777-8890-b49b49488ef6"
      },
      "execution_count": 29,
      "outputs": [
        {
          "output_type": "execute_result",
          "data": {
            "text/plain": [
              "SYMBOL                    object\n",
              "Adjusted 52_Week_High    float64\n",
              "Adjusted 52_Week_Low     float64\n",
              "dtype: object"
            ]
          },
          "metadata": {},
          "execution_count": 29
        }
      ]
    },
    {
      "cell_type": "code",
      "source": [
        "df_wk['Margin']=(df_wk['Adjusted 52_Week_High'] - df_wk['Adjusted 52_Week_Low'])"
      ],
      "metadata": {
        "id": "6BgkB50Ab-qP"
      },
      "execution_count": 30,
      "outputs": []
    },
    {
      "cell_type": "code",
      "source": [
        "df_wk['Margin(frac)']=2*(df_wk['Adjusted 52_Week_High']-df_wk['Adjusted 52_Week_Low'])/(df_wk['Adjusted 52_Week_High']+df_wk['Adjusted 52_Week_Low'])"
      ],
      "metadata": {
        "id": "PJRC8wxbasz0"
      },
      "execution_count": 31,
      "outputs": []
    },
    {
      "cell_type": "code",
      "source": [
        "df_wk_new=df_wk\n",
        "df_wk_new['Normalised Margin']=df_wk_new['Margin(frac)']/np.sum(df_wk_new['Margin(frac)'])\n",
        "df_wk_new"
      ],
      "metadata": {
        "colab": {
          "base_uri": "https://localhost:8080/",
          "height": 300
        },
        "id": "VKhTvb2VbX0L",
        "outputId": "d1db5ad6-6aec-46b4-ea04-f21707582ae2"
      },
      "execution_count": 32,
      "outputs": [
        {
          "output_type": "execute_result",
          "data": {
            "text/html": [
              "<div>\n",
              "<style scoped>\n",
              "    .dataframe tbody tr th:only-of-type {\n",
              "        vertical-align: middle;\n",
              "    }\n",
              "\n",
              "    .dataframe tbody tr th {\n",
              "        vertical-align: top;\n",
              "    }\n",
              "\n",
              "    .dataframe thead th {\n",
              "        text-align: right;\n",
              "    }\n",
              "</style>\n",
              "<table border=\"1\" class=\"dataframe\">\n",
              "  <thead>\n",
              "    <tr style=\"text-align: right;\">\n",
              "      <th></th>\n",
              "      <th>SYMBOL</th>\n",
              "      <th>Adjusted 52_Week_High</th>\n",
              "      <th>Adjusted 52_Week_Low</th>\n",
              "      <th>Margin</th>\n",
              "      <th>Margin(frac)</th>\n",
              "      <th>Normalised Margin</th>\n",
              "    </tr>\n",
              "  </thead>\n",
              "  <tbody>\n",
              "    <tr>\n",
              "      <th>0</th>\n",
              "      <td>BHARTIARTL</td>\n",
              "      <td>781.80</td>\n",
              "      <td>475.40</td>\n",
              "      <td>306.40</td>\n",
              "      <td>0.487432</td>\n",
              "      <td>0.076800</td>\n",
              "    </tr>\n",
              "    <tr>\n",
              "      <th>1</th>\n",
              "      <td>COFORGE</td>\n",
              "      <td>6030.00</td>\n",
              "      <td>2300.00</td>\n",
              "      <td>3730.00</td>\n",
              "      <td>0.895558</td>\n",
              "      <td>0.141104</td>\n",
              "    </tr>\n",
              "    <tr>\n",
              "      <th>2</th>\n",
              "      <td>INDUSTOWER</td>\n",
              "      <td>332.80</td>\n",
              "      <td>194.10</td>\n",
              "      <td>138.70</td>\n",
              "      <td>0.526476</td>\n",
              "      <td>0.082952</td>\n",
              "    </tr>\n",
              "    <tr>\n",
              "      <th>3</th>\n",
              "      <td>INFY</td>\n",
              "      <td>1848.00</td>\n",
              "      <td>1148.20</td>\n",
              "      <td>699.80</td>\n",
              "      <td>0.467125</td>\n",
              "      <td>0.073600</td>\n",
              "    </tr>\n",
              "    <tr>\n",
              "      <th>4</th>\n",
              "      <td>KPITTECH</td>\n",
              "      <td>531.00</td>\n",
              "      <td>104.35</td>\n",
              "      <td>426.65</td>\n",
              "      <td>1.343039</td>\n",
              "      <td>0.211609</td>\n",
              "    </tr>\n",
              "    <tr>\n",
              "      <th>5</th>\n",
              "      <td>LTI</td>\n",
              "      <td>7564.95</td>\n",
              "      <td>3211.10</td>\n",
              "      <td>4353.85</td>\n",
              "      <td>0.808060</td>\n",
              "      <td>0.127318</td>\n",
              "    </tr>\n",
              "    <tr>\n",
              "      <th>6</th>\n",
              "      <td>MASTEK</td>\n",
              "      <td>3669.00</td>\n",
              "      <td>802.20</td>\n",
              "      <td>2866.80</td>\n",
              "      <td>1.282340</td>\n",
              "      <td>0.202046</td>\n",
              "    </tr>\n",
              "    <tr>\n",
              "      <th>7</th>\n",
              "      <td>TATACOMM</td>\n",
              "      <td>1540.00</td>\n",
              "      <td>888.30</td>\n",
              "      <td>651.70</td>\n",
              "      <td>0.536754</td>\n",
              "      <td>0.084571</td>\n",
              "    </tr>\n",
              "  </tbody>\n",
              "</table>\n",
              "</div>"
            ],
            "text/plain": [
              "       SYMBOL  Adjusted 52_Week_High  ...  Margin(frac)  Normalised Margin\n",
              "0  BHARTIARTL                 781.80  ...      0.487432           0.076800\n",
              "1     COFORGE                6030.00  ...      0.895558           0.141104\n",
              "2  INDUSTOWER                 332.80  ...      0.526476           0.082952\n",
              "3        INFY                1848.00  ...      0.467125           0.073600\n",
              "4    KPITTECH                 531.00  ...      1.343039           0.211609\n",
              "5         LTI                7564.95  ...      0.808060           0.127318\n",
              "6      MASTEK                3669.00  ...      1.282340           0.202046\n",
              "7    TATACOMM                1540.00  ...      0.536754           0.084571\n",
              "\n",
              "[8 rows x 6 columns]"
            ]
          },
          "metadata": {},
          "execution_count": 32
        }
      ]
    },
    {
      "cell_type": "code",
      "source": [
        "fig=plt.figure(figsize=(10, 5))\n",
        "p=sns.barplot(df_wk_new['SYMBOL'], df_wk_new['Margin(frac)'])\n",
        "plt.title('Growth/Fall Percentage in 52wk high/low', weight='bold', fontsize=15)\n",
        "p.set_ylabel('Weighed Growth Percentage'); #plotting the growth ratio of stocks from 52wk high and low"
      ],
      "metadata": {
        "colab": {
          "base_uri": "https://localhost:8080/",
          "height": 352
        },
        "id": "yuNU7E1coyib",
        "outputId": "953f7597-43c1-4510-bdc3-2f466056a809"
      },
      "execution_count": 33,
      "outputs": [
        {
          "output_type": "display_data",
          "data": {
            "image/png": "[encoded data removed]",
            "text/plain": [
              "<Figure size 720x360 with 1 Axes>"
            ]
          },
          "metadata": {
            "needs_background": "light"
          }
        }
      ]
    },
    {
      "cell_type": "markdown",
      "source": [
        "#3)***Finalising Investment Fund Distribution***"
      ],
      "metadata": {
        "id": "M2qxGkMLe7B9"
      }
    },
    {
      "cell_type": "markdown",
      "source": [
        "We will be using the Asymptomatically Normalised Exponential weighing function for adding the contribution from 52wk markup.\n",
        "\n",
        "##\\begin{align}{2(\\frac{e^x}{1+e^x} - 0.5)}\\end{align}\n",
        "The graph of the weighing function is given below."
      ],
      "metadata": {
        "id": "EQVwru_trNF1"
      }
    },
    {
      "cell_type": "code",
      "source": [
        "df_wk_new['Weighed']=2*(np.exp(df_wk_new['Margin(frac)'])/(1+np.exp(df_wk_new['Margin(frac)']))-0.5)"
      ],
      "metadata": {
        "id": "s8fBbvq20EzY"
      },
      "execution_count": 34,
      "outputs": []
    },
    {
      "cell_type": "code",
      "source": [
        "df_wk_new['WeighedNorm']=df_wk_new.Weighed/np.sum(df_wk_new.Weighed)"
      ],
      "metadata": {
        "id": "9zIZ1MUK0o6v"
      },
      "execution_count": 35,
      "outputs": []
    },
    {
      "cell_type": "code",
      "source": [
        "df_wk_new"
      ],
      "metadata": {
        "colab": {
          "base_uri": "https://localhost:8080/",
          "height": 300
        },
        "id": "S7gVPQj1G0Kr",
        "outputId": "ce388e4d-0d26-4a30-ea82-e384edf1323c"
      },
      "execution_count": 36,
      "outputs": [
        {
          "output_type": "execute_result",
          "data": {
            "text/html": [
              "<div>\n",
              "<style scoped>\n",
              "    .dataframe tbody tr th:only-of-type {\n",
              "        vertical-align: middle;\n",
              "    }\n",
              "\n",
              "    .dataframe tbody tr th {\n",
              "        vertical-align: top;\n",
              "    }\n",
              "\n",
              "    .dataframe thead th {\n",
              "        text-align: right;\n",
              "    }\n",
              "</style>\n",
              "<table border=\"1\" class=\"dataframe\">\n",
              "  <thead>\n",
              "    <tr style=\"text-align: right;\">\n",
              "      <th></th>\n",
              "      <th>SYMBOL</th>\n",
              "      <th>Adjusted 52_Week_High</th>\n",
              "      <th>Adjusted 52_Week_Low</th>\n",
              "      <th>Margin</th>\n",
              "      <th>Margin(frac)</th>\n",
              "      <th>Normalised Margin</th>\n",
              "      <th>Weighed</th>\n",
              "      <th>WeighedNorm</th>\n",
              "    </tr>\n",
              "  </thead>\n",
              "  <tbody>\n",
              "    <tr>\n",
              "      <th>0</th>\n",
              "      <td>BHARTIARTL</td>\n",
              "      <td>781.80</td>\n",
              "      <td>475.40</td>\n",
              "      <td>306.40</td>\n",
              "      <td>0.487432</td>\n",
              "      <td>0.076800</td>\n",
              "      <td>0.239003</td>\n",
              "      <td>0.081211</td>\n",
              "    </tr>\n",
              "    <tr>\n",
              "      <th>1</th>\n",
              "      <td>COFORGE</td>\n",
              "      <td>6030.00</td>\n",
              "      <td>2300.00</td>\n",
              "      <td>3730.00</td>\n",
              "      <td>0.895558</td>\n",
              "      <td>0.141104</td>\n",
              "      <td>0.420072</td>\n",
              "      <td>0.142737</td>\n",
              "    </tr>\n",
              "    <tr>\n",
              "      <th>2</th>\n",
              "      <td>INDUSTOWER</td>\n",
              "      <td>332.80</td>\n",
              "      <td>194.10</td>\n",
              "      <td>138.70</td>\n",
              "      <td>0.526476</td>\n",
              "      <td>0.082952</td>\n",
              "      <td>0.257321</td>\n",
              "      <td>0.087436</td>\n",
              "    </tr>\n",
              "    <tr>\n",
              "      <th>3</th>\n",
              "      <td>INFY</td>\n",
              "      <td>1848.00</td>\n",
              "      <td>1148.20</td>\n",
              "      <td>699.80</td>\n",
              "      <td>0.467125</td>\n",
              "      <td>0.073600</td>\n",
              "      <td>0.229406</td>\n",
              "      <td>0.077950</td>\n",
              "    </tr>\n",
              "    <tr>\n",
              "      <th>4</th>\n",
              "      <td>KPITTECH</td>\n",
              "      <td>531.00</td>\n",
              "      <td>104.35</td>\n",
              "      <td>426.65</td>\n",
              "      <td>1.343039</td>\n",
              "      <td>0.211609</td>\n",
              "      <td>0.585979</td>\n",
              "      <td>0.199110</td>\n",
              "    </tr>\n",
              "    <tr>\n",
              "      <th>5</th>\n",
              "      <td>LTI</td>\n",
              "      <td>7564.95</td>\n",
              "      <td>3211.10</td>\n",
              "      <td>4353.85</td>\n",
              "      <td>0.808060</td>\n",
              "      <td>0.127318</td>\n",
              "      <td>0.383392</td>\n",
              "      <td>0.130273</td>\n",
              "    </tr>\n",
              "    <tr>\n",
              "      <th>6</th>\n",
              "      <td>MASTEK</td>\n",
              "      <td>3669.00</td>\n",
              "      <td>802.20</td>\n",
              "      <td>2866.80</td>\n",
              "      <td>1.282340</td>\n",
              "      <td>0.202046</td>\n",
              "      <td>0.565696</td>\n",
              "      <td>0.192219</td>\n",
              "    </tr>\n",
              "    <tr>\n",
              "      <th>7</th>\n",
              "      <td>TATACOMM</td>\n",
              "      <td>1540.00</td>\n",
              "      <td>888.30</td>\n",
              "      <td>651.70</td>\n",
              "      <td>0.536754</td>\n",
              "      <td>0.084571</td>\n",
              "      <td>0.262114</td>\n",
              "      <td>0.089064</td>\n",
              "    </tr>\n",
              "  </tbody>\n",
              "</table>\n",
              "</div>"
            ],
            "text/plain": [
              "       SYMBOL  Adjusted 52_Week_High  ...   Weighed  WeighedNorm\n",
              "0  BHARTIARTL                 781.80  ...  0.239003     0.081211\n",
              "1     COFORGE                6030.00  ...  0.420072     0.142737\n",
              "2  INDUSTOWER                 332.80  ...  0.257321     0.087436\n",
              "3        INFY                1848.00  ...  0.229406     0.077950\n",
              "4    KPITTECH                 531.00  ...  0.585979     0.199110\n",
              "5         LTI                7564.95  ...  0.383392     0.130273\n",
              "6      MASTEK                3669.00  ...  0.565696     0.192219\n",
              "7    TATACOMM                1540.00  ...  0.262114     0.089064\n",
              "\n",
              "[8 rows x 8 columns]"
            ]
          },
          "metadata": {},
          "execution_count": 36
        }
      ]
    },
    {
      "cell_type": "code",
      "source": [
        "x=np.linspace(-5, 5, 1000)"
      ],
      "metadata": {
        "id": "rU4dmZusbwwV"
      },
      "execution_count": 37,
      "outputs": []
    },
    {
      "cell_type": "code",
      "source": [
        "y=2*(np.exp(x)/(1+np.exp(x))-0.5)"
      ],
      "metadata": {
        "id": "P1JmfQd3nNNi"
      },
      "execution_count": 38,
      "outputs": []
    },
    {
      "cell_type": "markdown",
      "source": [
        "###***Generating a Weighing Function***"
      ],
      "metadata": {
        "id": "fS-oyiz3MpxK"
      }
    },
    {
      "cell_type": "code",
      "source": [
        "fig, ax=plt.subplots(figsize=(12,6))\n",
        "sns.set_style('whitegrid')\n",
        "ax.plot(x, y, linewidth='6', label='Weighing Function')\n",
        "ax.plot(x, np.exp(x), color='red', label='Exponential')\n",
        "ax.plot(x,x, color='black', label='Linear')\n",
        "ax.plot(x, np.log(x), color='green', label='Logarithmic')\n",
        "plt.title('Weighing Function', weight='bold', fontsize=15)\n",
        "ax.legend(frameon=True)\n",
        "plt.ylim(-3, 3); #plotting the weighing function alongwith standard functions"
      ],
      "metadata": {
        "colab": {
          "base_uri": "https://localhost:8080/",
          "height": 392
        },
        "id": "8K0xISzLnNL_",
        "outputId": "28919107-7124-4432-8087-def4792d2359"
      },
      "execution_count": 39,
      "outputs": [
        {
          "output_type": "display_data",
          "data": {
            "image/png": "[encoded data removed]",
            "text/plain": [
              "<Figure size 864x432 with 1 Axes>"
            ]
          },
          "metadata": {
            "needs_background": "light"
          }
        }
      ]
    },
    {
      "cell_type": "markdown",
      "source": [
        "We now create 5 different models to accomodate the risk appetite, investment timeline, and risk to reward ratio that the investor is targeting.<br>\n",
        "We have created the model using the normalised values of log-Squared Market cap and Normalised values of Weighed and Normalised 52wk low-high gain ratio\n",
        "<br><br>\n",
        "The Parameter controlling the model behaviour is Lambda($\\lambda$)\n",
        "<br>\n",
        "The formula for the distribution of funds is ->\n",
        "<br>\n",
        "(normalised market cap) + $\\lambda$(weighed-normalised 52wk markup)\n",
        "<br><br>\n",
        "##\\begin{align}{(Norm\\;Market\\;CaP) + \\lambda(Norm\\;Weighed\\;Markup)}\\end{align}\n"
      ],
      "metadata": {
        "id": "oyoJjv0DGDMU"
      }
    },
    {
      "cell_type": "markdown",
      "source": [
        "Smaller value of $\\lambda$ gives more weightage to market capitalisation of a stock, which is in general, considered to be a ***safe investment*** in large market cap companies.<br>\n",
        "On the other hand, larger value of $\\lambda$ gives lesser weightage to the market cap, and more importance to the difference between ***CMP*** and ***52wk High***. "
      ],
      "metadata": {
        "id": "q7hX1WHtKlCX"
      }
    },
    {
      "cell_type": "code",
      "source": [
        "scorecard=pd.DataFrame(columns=list_comp_it)"
      ],
      "metadata": {
        "id": "3_st_LPe1xBX"
      },
      "execution_count": 40,
      "outputs": []
    },
    {
      "cell_type": "code",
      "source": [
        "for i in np.linspace(0, 2, 5):\n",
        "  fig=plt.figure(figsize=(9, 3))\n",
        "  final=dfn_transform['MarketCapNorm'] + i*df_wk_new.WeighedNorm\n",
        "  final=final/np.sum(final)\n",
        "  plt.ylabel('Fraction of Investment')\n",
        "  sns.barplot(df_wk_new.SYMBOL, final)\n",
        "  plt.title(f'For $\\lambda$ ={i}', weight='bold', fontsize=13)\n",
        "  final_series=pd.Series(final.tolist(), index=scorecard.columns)\n",
        "  scorecard=scorecard.append(final_series, ignore_index=True)\n",
        "\n",
        "\n"
      ],
      "metadata": {
        "colab": {
          "base_uri": "https://localhost:8080/",
          "height": 1000
        },
        "id": "-leRz-bQnNKE",
        "outputId": "39e30ff3-f3dd-40c0-d54b-6959b4db9e91"
      },
      "execution_count": 41,
      "outputs": [
        {
          "output_type": "display_data",
          "data": {
            "image/png": "[encoded data removed]",
            "text/plain": [
              "<Figure size 648x216 with 1 Axes>"
            ]
          },
          "metadata": {}
        },
        {
          "output_type": "display_data",
          "data": {
            "image/png": "[encoded data removed]",
            "text/plain": [
              "<Figure size 648x216 with 1 Axes>"
            ]
          },
          "metadata": {}
        },
        {
          "output_type": "display_data",
          "data": {
            "image/png": "[encoded data removed]",
            "text/plain": [
              "<Figure size 648x216 with 1 Axes>"
            ]
          },
          "metadata": {}
        },
        {
          "output_type": "display_data",
          "data": {
            "image/png": "[encoded data removed]",
            "text/plain": [
              "<Figure size 648x216 with 1 Axes>"
            ]
          },
          "metadata": {}
        },
        {
          "output_type": "display_data",
          "data": {
            "image/png": "[encoded data removed]",
            "text/plain": [
              "<Figure size 648x216 with 1 Axes>"
            ]
          },
          "metadata": {}
        }
      ]
    },
    {
      "cell_type": "code",
      "source": [
        "scorecard"
      ],
      "metadata": {
        "colab": {
          "base_uri": "https://localhost:8080/",
          "height": 206
        },
        "id": "zGAtK15enNIP",
        "outputId": "29baa3ab-171a-4235-941e-a3a17c4166c0"
      },
      "execution_count": 42,
      "outputs": [
        {
          "output_type": "execute_result",
          "data": {
            "text/html": [
              "<div>\n",
              "<style scoped>\n",
              "    .dataframe tbody tr th:only-of-type {\n",
              "        vertical-align: middle;\n",
              "    }\n",
              "\n",
              "    .dataframe tbody tr th {\n",
              "        vertical-align: top;\n",
              "    }\n",
              "\n",
              "    .dataframe thead th {\n",
              "        text-align: right;\n",
              "    }\n",
              "</style>\n",
              "<table border=\"1\" class=\"dataframe\">\n",
              "  <thead>\n",
              "    <tr style=\"text-align: right;\">\n",
              "      <th></th>\n",
              "      <th>LTI</th>\n",
              "      <th>MASTEK</th>\n",
              "      <th>INFY</th>\n",
              "      <th>KPITTECH</th>\n",
              "      <th>BHARTIARTL</th>\n",
              "      <th>INDUSTOWER</th>\n",
              "      <th>TATACOMM</th>\n",
              "      <th>COFORGE</th>\n",
              "    </tr>\n",
              "  </thead>\n",
              "  <tbody>\n",
              "    <tr>\n",
              "      <th>0</th>\n",
              "      <td>0.170921</td>\n",
              "      <td>0.157462</td>\n",
              "      <td>0.133004</td>\n",
              "      <td>0.131823</td>\n",
              "      <td>0.119064</td>\n",
              "      <td>0.110675</td>\n",
              "      <td>0.091679</td>\n",
              "      <td>0.085372</td>\n",
              "    </tr>\n",
              "    <tr>\n",
              "      <th>1</th>\n",
              "      <td>0.141018</td>\n",
              "      <td>0.152553</td>\n",
              "      <td>0.117814</td>\n",
              "      <td>0.113865</td>\n",
              "      <td>0.145746</td>\n",
              "      <td>0.117208</td>\n",
              "      <td>0.125192</td>\n",
              "      <td>0.086603</td>\n",
              "    </tr>\n",
              "    <tr>\n",
              "      <th>2</th>\n",
              "      <td>0.126066</td>\n",
              "      <td>0.150099</td>\n",
              "      <td>0.110220</td>\n",
              "      <td>0.104886</td>\n",
              "      <td>0.159087</td>\n",
              "      <td>0.120474</td>\n",
              "      <td>0.141949</td>\n",
              "      <td>0.087218</td>\n",
              "    </tr>\n",
              "    <tr>\n",
              "      <th>3</th>\n",
              "      <td>0.117095</td>\n",
              "      <td>0.148627</td>\n",
              "      <td>0.105663</td>\n",
              "      <td>0.099499</td>\n",
              "      <td>0.167092</td>\n",
              "      <td>0.122434</td>\n",
              "      <td>0.152003</td>\n",
              "      <td>0.087587</td>\n",
              "    </tr>\n",
              "    <tr>\n",
              "      <th>4</th>\n",
              "      <td>0.111114</td>\n",
              "      <td>0.147645</td>\n",
              "      <td>0.102625</td>\n",
              "      <td>0.095908</td>\n",
              "      <td>0.172428</td>\n",
              "      <td>0.123741</td>\n",
              "      <td>0.158705</td>\n",
              "      <td>0.087834</td>\n",
              "    </tr>\n",
              "  </tbody>\n",
              "</table>\n",
              "</div>"
            ],
            "text/plain": [
              "        LTI    MASTEK      INFY  ...  INDUSTOWER  TATACOMM   COFORGE\n",
              "0  0.170921  0.157462  0.133004  ...    0.110675  0.091679  0.085372\n",
              "1  0.141018  0.152553  0.117814  ...    0.117208  0.125192  0.086603\n",
              "2  0.126066  0.150099  0.110220  ...    0.120474  0.141949  0.087218\n",
              "3  0.117095  0.148627  0.105663  ...    0.122434  0.152003  0.087587\n",
              "4  0.111114  0.147645  0.102625  ...    0.123741  0.158705  0.087834\n",
              "\n",
              "[5 rows x 8 columns]"
            ]
          },
          "metadata": {},
          "execution_count": 42
        }
      ]
    },
    {
      "cell_type": "code",
      "source": [
        "scorecard['Lambda']=np.linspace(0,2,5)"
      ],
      "metadata": {
        "id": "xlWQ8bJLFHzU"
      },
      "execution_count": 43,
      "outputs": []
    },
    {
      "cell_type": "code",
      "source": [
        "scorecard"
      ],
      "metadata": {
        "colab": {
          "base_uri": "https://localhost:8080/",
          "height": 206
        },
        "id": "gJaRXv1jFzbG",
        "outputId": "1675d336-5ac1-4770-c085-e4f227ded371"
      },
      "execution_count": 44,
      "outputs": [
        {
          "output_type": "execute_result",
          "data": {
            "text/html": [
              "<div>\n",
              "<style scoped>\n",
              "    .dataframe tbody tr th:only-of-type {\n",
              "        vertical-align: middle;\n",
              "    }\n",
              "\n",
              "    .dataframe tbody tr th {\n",
              "        vertical-align: top;\n",
              "    }\n",
              "\n",
              "    .dataframe thead th {\n",
              "        text-align: right;\n",
              "    }\n",
              "</style>\n",
              "<table border=\"1\" class=\"dataframe\">\n",
              "  <thead>\n",
              "    <tr style=\"text-align: right;\">\n",
              "      <th></th>\n",
              "      <th>LTI</th>\n",
              "      <th>MASTEK</th>\n",
              "      <th>INFY</th>\n",
              "      <th>KPITTECH</th>\n",
              "      <th>BHARTIARTL</th>\n",
              "      <th>INDUSTOWER</th>\n",
              "      <th>TATACOMM</th>\n",
              "      <th>COFORGE</th>\n",
              "      <th>Lambda</th>\n",
              "    </tr>\n",
              "  </thead>\n",
              "  <tbody>\n",
              "    <tr>\n",
              "      <th>0</th>\n",
              "      <td>0.170921</td>\n",
              "      <td>0.157462</td>\n",
              "      <td>0.133004</td>\n",
              "      <td>0.131823</td>\n",
              "      <td>0.119064</td>\n",
              "      <td>0.110675</td>\n",
              "      <td>0.091679</td>\n",
              "      <td>0.085372</td>\n",
              "      <td>0.0</td>\n",
              "    </tr>\n",
              "    <tr>\n",
              "      <th>1</th>\n",
              "      <td>0.141018</td>\n",
              "      <td>0.152553</td>\n",
              "      <td>0.117814</td>\n",
              "      <td>0.113865</td>\n",
              "      <td>0.145746</td>\n",
              "      <td>0.117208</td>\n",
              "      <td>0.125192</td>\n",
              "      <td>0.086603</td>\n",
              "      <td>0.5</td>\n",
              "    </tr>\n",
              "    <tr>\n",
              "      <th>2</th>\n",
              "      <td>0.126066</td>\n",
              "      <td>0.150099</td>\n",
              "      <td>0.110220</td>\n",
              "      <td>0.104886</td>\n",
              "      <td>0.159087</td>\n",
              "      <td>0.120474</td>\n",
              "      <td>0.141949</td>\n",
              "      <td>0.087218</td>\n",
              "      <td>1.0</td>\n",
              "    </tr>\n",
              "    <tr>\n",
              "      <th>3</th>\n",
              "      <td>0.117095</td>\n",
              "      <td>0.148627</td>\n",
              "      <td>0.105663</td>\n",
              "      <td>0.099499</td>\n",
              "      <td>0.167092</td>\n",
              "      <td>0.122434</td>\n",
              "      <td>0.152003</td>\n",
              "      <td>0.087587</td>\n",
              "      <td>1.5</td>\n",
              "    </tr>\n",
              "    <tr>\n",
              "      <th>4</th>\n",
              "      <td>0.111114</td>\n",
              "      <td>0.147645</td>\n",
              "      <td>0.102625</td>\n",
              "      <td>0.095908</td>\n",
              "      <td>0.172428</td>\n",
              "      <td>0.123741</td>\n",
              "      <td>0.158705</td>\n",
              "      <td>0.087834</td>\n",
              "      <td>2.0</td>\n",
              "    </tr>\n",
              "  </tbody>\n",
              "</table>\n",
              "</div>"
            ],
            "text/plain": [
              "        LTI    MASTEK      INFY  ...  TATACOMM   COFORGE  Lambda\n",
              "0  0.170921  0.157462  0.133004  ...  0.091679  0.085372     0.0\n",
              "1  0.141018  0.152553  0.117814  ...  0.125192  0.086603     0.5\n",
              "2  0.126066  0.150099  0.110220  ...  0.141949  0.087218     1.0\n",
              "3  0.117095  0.148627  0.105663  ...  0.152003  0.087587     1.5\n",
              "4  0.111114  0.147645  0.102625  ...  0.158705  0.087834     2.0\n",
              "\n",
              "[5 rows x 9 columns]"
            ]
          },
          "metadata": {},
          "execution_count": 44
        }
      ]
    },
    {
      "cell_type": "markdown",
      "source": [
        "The above scorecard depicts the relative fraction of investments that should be done in different stocks as per the risk appetite of the investor. "
      ],
      "metadata": {
        "id": "cZuFGUN5M3ve"
      }
    }
  ]
}